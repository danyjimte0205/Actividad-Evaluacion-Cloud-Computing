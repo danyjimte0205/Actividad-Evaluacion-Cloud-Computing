{
 "cells": [
  {
   "cell_type": "code",
   "execution_count": 6,
   "id": "fb860dec",
   "metadata": {},
   "outputs": [],
   "source": [
    "# pip install azureml-sdk"
   ]
  },
  {
   "cell_type": "code",
   "execution_count": 7,
   "id": "4bef7312",
   "metadata": {},
   "outputs": [
    {
     "name": "stdout",
     "output_type": "stream",
     "text": [
      "Cleaning up past default Resource Group Deployments on the subscription to avoid limit of 10\n",
      "Deleting past Resource Group Deployment with name: DeployResourceGroup-5f91fc1213\n",
      "Deploying StorageAccount with name salesltstorage522f022341.\n",
      "Deploying KeyVault with name salesltkeyvault490967b03.\n",
      "Deploying AppInsights with name salesltinsights4672a022a.\n",
      "Deployed AppInsights with name salesltinsights4672a022a. Took 54.35 seconds.\n",
      "Deploying Workspace with name Sales-LT.\n",
      "Deployed Workspace with name Sales-LT. Took 44.71 seconds.\n",
      "Registering model modelo_modifieddate\n"
     ]
    }
   ],
   "source": [
    "## STEP 1: Set up the workspace.\n",
    "\n",
    "import json\n",
    "\n",
    "# GETTING MY ID:\n",
    "id = open('my_id.json', 'r')\n",
    "mi = json.load(id)\n",
    "my_id = mi[\"my_id\"]\n",
    "\n",
    "# Crear el workspace\n",
    "from azureml.core import Workspace\n",
    "\n",
    "ws = Workspace.create(name = \"Sales-LT\",\n",
    "                      subscription_id = my_id,\n",
    "                      resource_group = \"class4\",\n",
    "                      location = \"centralindia\")\n",
    "\n",
    "\n",
    "# Mi modleo\n",
    "from azureml.core.model import Model\n",
    "\n",
    "mname = \"modelo_modifieddate\"\n",
    "\n",
    "registered_model = Model.register(model_path=\"modelo_modifieddate.pkl\",\n",
    "                                  model_name=mname,\n",
    "                                  workspace=ws)"
   ]
  },
  {
   "cell_type": "code",
   "execution_count": 8,
   "id": "3914d2df",
   "metadata": {},
   "outputs": [],
   "source": [
    "scorepy = f\"\"\"\n",
    "import json\n",
    "import pickle\n",
    "import numpy as np\n",
    "import pandas as pd\n",
    "from azureml.core.model import Model\n",
    "\n",
    "def init():\n",
    "    global model\n",
    "    model_path = Model.get_model_path('{mname}')\n",
    "    with open(model_path, 'rb') as file:\n",
    "        model = pickle.load(file)\n",
    "\n",
    "def run(raw_data):\n",
    "    try:\n",
    "        # Leer los datos recibidos\n",
    "        data = json.loads(raw_data)['data']\n",
    "        data = pd.DataFrame(data)\n",
    "\n",
    "        # Predecir los días desde la fecha base\n",
    "        pred_days = model.predict(data).tolist()\n",
    "\n",
    "        fecha_base = pd.to_datetime(datos[\"ModifiedDate\"].min())\n",
    "        pred_dates = (fecha_base + pd.to_timedelta(pred_days, unit='D')).astype(str).tolist()\n",
    "\n",
    "        return json.dumps(pred_dates)\n",
    "\n",
    "    except Exception as e:\n",
    "        return json.dumps({{\"error\": str(e)}})\n",
    "\"\"\"\n",
    "\n",
    "# Guardar el script como score.py\n",
    "with open(\"score.py\", \"w\") as file_score:\n",
    "    file_score.write(scorepy)"
   ]
  },
  {
   "cell_type": "code",
   "execution_count": 9,
   "id": "cec8cea2",
   "metadata": {},
   "outputs": [
    {
     "name": "stderr",
     "output_type": "stream",
     "text": [
      "C:\\Users\\danyj\\AppData\\Local\\Temp\\ipykernel_29580\\3989220218.py:25: FutureWarning: azureml.core.model:\n",
      "To leverage new model deployment capabilities, AzureML recommends using CLI/SDK v2 to deploy models as online endpoint, \n",
      "please refer to respective documentations \n",
      "https://docs.microsoft.com/azure/machine-learning/how-to-deploy-managed-online-endpoints /\n",
      "https://docs.microsoft.com/azure/machine-learning/how-to-attach-kubernetes-anywhere \n",
      "For more information on migration, see https://aka.ms/acimoemigration \n",
      "To disable CLI/SDK v1 deprecation warning set AZUREML_LOG_DEPRECATION_WARNING_ENABLED to 'False'\n",
      "  service = Model.deploy(\n"
     ]
    }
   ],
   "source": [
    "## STEP 2: Inference configuration adaptado a tu modelo de regresión de fechas ---\n",
    "\n",
    "from azureml.core.environment import Environment\n",
    "from azureml.core.conda_dependencies import CondaDependencies\n",
    "from azureml.core.model import InferenceConfig, Model\n",
    "from azureml.core.webservice import AciWebservice\n",
    "\n",
    "virtual_env = Environment(\"env-4-modifieddate\")\n",
    "\n",
    "virtual_env.python.conda_dependencies = CondaDependencies.create(\n",
    "    conda_packages=['pandas', 'scikit-learn'],\n",
    "    pip_packages=['azureml-defaults']\n",
    ")\n",
    "\n",
    "inference_config = InferenceConfig(\n",
    "    environment=virtual_env,\n",
    "    entry_script=\"score.py\"\n",
    ")\n",
    "\n",
    "aci_config = AciWebservice.deploy_configuration(\n",
    "    cpu_cores=0.5,\n",
    "    memory_gb=1\n",
    ")\n",
    "\n",
    "service = Model.deploy(\n",
    "    workspace=ws,\n",
    "    name='modifieddate-service',\n",
    "    models=[registered_model],\n",
    "    inference_config=inference_config,\n",
    "    deployment_config=aci_config,\n",
    "    overwrite=True\n",
    ")"
   ]
  },
  {
   "cell_type": "code",
   "execution_count": 11,
   "id": "2b5a7efe",
   "metadata": {},
   "outputs": [
    {
     "name": "stdout",
     "output_type": "stream",
     "text": [
      "ACI service creation operation finished, operation \"Succeeded\"\n"
     ]
    }
   ],
   "source": [
    "service.wait_for_deployment()\n",
    "\n",
    "scoring_uri = service.scoring_uri\n",
    "\n",
    "scoreuri = json.dumps({\"URI\": [scoring_uri]})\n",
    "file = open(\"uri.json\", \"w\")\n",
    "file.write(scoreuri)\n",
    "file.close()"
   ]
  }
 ],
 "metadata": {
  "kernelspec": {
   "display_name": ".venv",
   "language": "python",
   "name": "python3"
  },
  "language_info": {
   "codemirror_mode": {
    "name": "ipython",
    "version": 3
   },
   "file_extension": ".py",
   "mimetype": "text/x-python",
   "name": "python",
   "nbconvert_exporter": "python",
   "pygments_lexer": "ipython3",
   "version": "3.9.13"
  }
 },
 "nbformat": 4,
 "nbformat_minor": 5
}
